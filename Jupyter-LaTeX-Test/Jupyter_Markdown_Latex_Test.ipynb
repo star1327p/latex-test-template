{
 "cells": [
  {
   "cell_type": "markdown",
   "id": "d32b6a1b",
   "metadata": {},
   "source": [
    "$$c = \\sqrt{a^2 + b^2}$$"
   ]
  },
  {
   "cell_type": "markdown",
   "id": "ae416d2e",
   "metadata": {},
   "source": [
    "\\begin{equation}\n",
    "H_{60} \\times \\alpha = \\frac{30(B−R)}{V_{max} − V_{min}}\n",
    "\\end{equation}"
   ]
  }
 ],
 "metadata": {
  "kernelspec": {
   "display_name": "Python 3 (ipykernel)",
   "language": "python",
   "name": "python3"
  },
  "language_info": {
   "codemirror_mode": {
    "name": "ipython",
    "version": 3
   },
   "file_extension": ".py",
   "mimetype": "text/x-python",
   "name": "python",
   "nbconvert_exporter": "python",
   "pygments_lexer": "ipython3",
   "version": "3.11.3"
  }
 },
 "nbformat": 4,
 "nbformat_minor": 5
}
